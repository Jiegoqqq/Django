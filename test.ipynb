{
 "cells": [
  {
   "cell_type": "code",
   "execution_count": 5,
   "metadata": {},
   "outputs": [
    {
     "name": "stdout",
     "output_type": "stream",
     "text": [
      "[{'Query: KIF23': 'Primary site: Adrenal Gland Adrenocortical Carcinoma'}, {'Query: KIF23': 'Low Percentile: 30'}, {'Query: KIF23': 'High Percentile: 30'}, {'Query: KIF23': 'Condition: all stage'}, {'Query: KIF23': 'Patient,Days,Status,Expression,Group'}, {'Query: KIF23': 'TCGA-OR-A5JI,2331.0,Alive,0.373643,Low'}, {'Query: KIF23': 'TCGA-OR-A5L3,4628.0,Alive,0.120429,Low'}, {'Query: KIF23': 'TCGA-OR-A5L5,1317.0,Alive,0.514227,Low'}, {'Query: KIF23': 'TCGA-OR-A5JO,1194.0,Alive,0.897549,Low'}, {'Query: KIF23': 'TCGA-PK-A5HA,1201.0,Alive,0.554004,Low'}, {'Query: KIF23': 'TCGA-OR-A5JF,2015.0,Alive,0.852554,Low'}, {'Query: KIF23': 'TCGA-OR-A5JD,3038.0,Alive,0.376991,Low'}, {'Query: KIF23': 'TCGA-OR-A5JV,2023.0,Alive,0.819389,Low'}, {'Query: KIF23': 'TCGA-OR-A5LH,2385.0,Dead,0.399919,Low'}, {'Query: KIF23': 'TCGA-OR-A5LK,2740.0,Alive,0.377011,Low'}, {'Query: KIF23': 'TCGA-OR-A5LN,2342.0,Alive,0.316242,Low'}, {'Query: KIF23': 'TCGA-OR-A5K3,3465.0,Alive,0.730736,Low'}, {'Query: KIF23': 'TCGA-OR-A5J1,1355.0,Dead,0.705636,Low'}, {'Query: KIF23': 'TCGA-OR-A5L8,885.0,Alive,0.787254,Low'}, {'Query: KIF23': 'TCGA-OR-A5LP,1857.0,Alive,0.551519,Low'}, {'Query: KIF23': 'TCGA-OR-A5LA,719.0,Alive,0.175031,Low'}, {'Query: KIF23': 'TCGA-PA-A5YG,756.0,Alive,0.440762,Low'}, {'Query: KIF23': 'TCGA-OR-A5L9,871.0,Alive,0.0926632,Low'}, {'Query: KIF23': 'TCGA-OR-A5K8,749.0,Alive,0.83667,Low'}, {'Query: KIF23': 'TCGA-OR-A5LL,1613.0,Dead,0.301231,Low'}, {'Query: KIF23': 'TCGA-OR-A5J6,2703.0,Alive,0.349144,Low'}, {'Query: KIF23': 'TCGA-OR-A5LD,1197.0,Dead,0.929737,Low'}, {'Query: KIF23': 'TCGA-OR-A5JX,950.0,Alive,0.337058,Low'}, {'Query: KIF23': 'TCGA-OR-A5JE,2105.0,Dead,3.56239,High'}, {'Query: KIF23': 'TCGA-OR-A5K0,1029.0,Alive,3.84652,High'}, {'Query: KIF23': 'TCGA-OR-A5JP,464.0,Alive,3.94863,High'}, {'Query: KIF23': 'TCGA-OR-A5K9,344.0,Dead,4.6721,High'}, {'Query: KIF23': 'TCGA-OR-A5JS,383.0,Alive,5.69687,High'}, {'Query: KIF23': 'TCGA-OR-A5LE,662.0,Dead,8.2537,High'}, {'Query: KIF23': 'TCGA-OR-A5JZ,822.0,Alive,3.18535,High'}, {'Query: KIF23': 'TCGA-OR-A5KZ,125.0,Dead,16.4353,High'}, {'Query: KIF23': 'TCGA-OR-A5J7,490.0,Dead,7.81601,High'}, {'Query: KIF23': 'TCGA-OR-A5K2,994.0,Dead,3.21346,High'}, {'Query: KIF23': 'TCGA-OR-A5J8,579.0,Dead,3.05337,High'}, {'Query: KIF23': 'TCGA-OR-A5K4,1082.0,Alive,3.72265,High'}, {'Query: KIF23': 'TCGA-OR-A5KW,2076.0,Alive,4.05857,High'}, {'Query: KIF23': 'TCGA-OR-A5KY,391.0,Dead,7.19204,High'}, {'Query: KIF23': 'TCGA-OR-A5JJ,490.0,Dead,3.99504,High'}, {'Query: KIF23': 'TCGA-OR-A5JA,922.0,Dead,6.77294,High'}, {'Query: KIF23': 'TCGA-OR-A5JB,551.0,Dead,10.4018,High'}, {'Query: KIF23': 'TCGA-P6-A5OG,383.0,Dead,5.70184,High'}, {'Query: KIF23': 'TCGA-OR-A5JM,562.0,Dead,8.76178,High'}, {'Query: KIF23': 'TCGA-OR-A5LC,159.0,Dead,6.99424,High'}, {'Query: KIF23': 'TCGA-OR-A5JY,552.0,Dead,11.3699,High'}, {'Query: KIF23': 'TCGA-OR-A5KO,1414.0,Alive,7.16133,High'}, {'Query: KIF23': 'TCGA-OR-A5LJ,1105.0,Dead,3.67501,High'}]\n"
     ]
    }
   ],
   "source": [
    "import pandas as pd \n",
    "csv_data = pd.read_csv('/home/cosbi/forme/survival_analysisv3/csv_result/Survival_Profile_Adrenal Gland Adrenocortical Carcinoma_30_30.csv', delimiter='\\t')  # Change delimiter if needed\n",
    "\n",
    "csv_data_dict = csv_data.to_dict(orient='records')\n",
    "print(csv_data_dict)"
   ]
  },
  {
   "cell_type": "code",
   "execution_count": 7,
   "metadata": {},
   "outputs": [
    {
     "name": "stdout",
     "output_type": "stream",
     "text": [
      "Primary site: Adrenal Gland Adrenocortical Carcinoma\n",
      "Low Percentile: 30\n",
      "High Percentile: 30\n",
      "Condition: all stage\n",
      "\"Patient,Days,Status,Expression,Group\"\n",
      "\"TCGA-OR-A5JI,2331.0,Alive,0.373643,Low\"\n",
      "\"TCGA-OR-A5L3,4628.0,Alive,0.120429,Low\"\n",
      "\"TCGA-OR-A5L5,1317.0,Alive,0.514227,Low\"\n",
      "\"TCGA-OR-A5JO,1194.0,Alive,0.897549,Low\"\n",
      "\"TCGA-PK-A5HA,1201.0,Alive,0.554004,Low\"\n",
      "\"TCGA-OR-A5JF,2015.0,Alive,0.852554,Low\"\n",
      "\"TCGA-OR-A5JD,3038.0,Alive,0.376991,Low\"\n",
      "\"TCGA-OR-A5JV,2023.0,Alive,0.819389,Low\"\n",
      "\"TCGA-OR-A5LH,2385.0,Dead,0.399919,Low\"\n",
      "\"TCGA-OR-A5LK,2740.0,Alive,0.377011,Low\"\n",
      "\"TCGA-OR-A5LN,2342.0,Alive,0.316242,Low\"\n",
      "\"TCGA-OR-A5K3,3465.0,Alive,0.730736,Low\"\n",
      "\"TCGA-OR-A5J1,1355.0,Dead,0.705636,Low\"\n",
      "\"TCGA-OR-A5L8,885.0,Alive,0.787254,Low\"\n",
      "\"TCGA-OR-A5LP,1857.0,Alive,0.551519,Low\"\n",
      "\"TCGA-OR-A5LA,719.0,Alive,0.175031,Low\"\n",
      "\"TCGA-PA-A5YG,756.0,Alive,0.440762,Low\"\n",
      "\"TCGA-OR-A5L9,871.0,Alive,0.0926632,Low\"\n",
      "\"TCGA-OR-A5K8,749.0,Alive,0.83667,Low\"\n",
      "\"TCGA-OR-A5LL,1613.0,Dead,0.301231,Low\"\n",
      "\"TCGA-OR-A5J6,2703.0,Alive,0.349144,Low\"\n",
      "\"TCGA-OR-A5LD,1197.0,Dead,0.929737,Low\"\n",
      "\"TCGA-OR-A5JX,950.0,Alive,0.337058,Low\"\n",
      "\"TCGA-OR-A5JE,2105.0,Dead,3.56239,High\"\n",
      "\"TCGA-OR-A5K0,1029.0,Alive,3.84652,High\"\n",
      "\"TCGA-OR-A5JP,464.0,Alive,3.94863,High\"\n",
      "\"TCGA-OR-A5K9,344.0,Dead,4.6721,High\"\n",
      "\"TCGA-OR-A5JS,383.0,Alive,5.69687,High\"\n",
      "\"TCGA-OR-A5LE,662.0,Dead,8.2537,High\"\n",
      "\"TCGA-OR-A5JZ,822.0,Alive,3.18535,High\"\n",
      "\"TCGA-OR-A5KZ,125.0,Dead,16.4353,High\"\n",
      "\"TCGA-OR-A5J7,490.0,Dead,7.81601,High\"\n",
      "\"TCGA-OR-A5K2,994.0,Dead,3.21346,High\"\n",
      "\"TCGA-OR-A5J8,579.0,Dead,3.05337,High\"\n",
      "\"TCGA-OR-A5K4,1082.0,Alive,3.72265,High\"\n",
      "\"TCGA-OR-A5KW,2076.0,Alive,4.05857,High\"\n",
      "\"TCGA-OR-A5KY,391.0,Dead,7.19204,High\"\n",
      "\"TCGA-OR-A5JJ,490.0,Dead,3.99504,High\"\n",
      "\"TCGA-OR-A5JA,922.0,Dead,6.77294,High\"\n",
      "\"TCGA-OR-A5JB,551.0,Dead,10.4018,High\"\n",
      "\"TCGA-P6-A5OG,383.0,Dead,5.70184,High\"\n",
      "\"TCGA-OR-A5JM,562.0,Dead,8.76178,High\"\n",
      "\"TCGA-OR-A5LC,159.0,Dead,6.99424,High\"\n",
      "\"TCGA-OR-A5JY,552.0,Dead,11.3699,High\"\n",
      "\"TCGA-OR-A5KO,1414.0,Alive,7.16133,High\"\n",
      "\"TCGA-OR-A5LJ,1105.0,Dead,3.67501,High\"\n",
      "\n"
     ]
    }
   ],
   "source": [
    "import csv\n",
    "from io import StringIO\n",
    "\n",
    "# 创建 CSV 字符串\n",
    "csv_string = StringIO()\n",
    "csv_writer = csv.writer(csv_string)\n",
    "\n",
    "# 写入数据\n",
    "for row in csv_data_dict:\n",
    "    csv_writer.writerow(row.values())\n",
    "\n",
    "# 获取 CSV 字符串\n",
    "csv_result = csv_string.getvalue()\n",
    "\n",
    "# 打印结果\n",
    "print(csv_result)"
   ]
  },
  {
   "cell_type": "code",
   "execution_count": 5,
   "metadata": {},
   "outputs": [
    {
     "name": "stdout",
     "output_type": "stream",
     "text": [
      "ABC/50/50\n",
      "50\n"
     ]
    }
   ],
   "source": [
    "def cancer_screener_data(request):\n",
    "\n",
    "    cancer_kind = request.POST['cancer_kind']\n",
    "    select_cancer = request.POST['select_cancer']\n",
    "    select_stage = request.POST['select_stage']\n",
    "    High_Percentile_input = request.POST['High_Percentile_input']\n",
    "    Low_Percentile_input = request.POST['Low_Percentile_input']\n",
    "    Pvalue_input = request.POST['Pvalue_input']\n",
    "\n",
    "    if 'DE Gene' in cancer_kind :\n",
    "        result = models.TcgaAccGenesFpkmCufflinks.objects.all()\n",
    "        result = list(result.values())\n",
    "\n",
    "    else:\n",
    "        result = models.TcgaAccIsoformsFpkmCufflinks.objects.all().values()\n",
    "        result = list(result.values())\n",
    "\n",
    "\n",
    "    result = [[value.strip(\"'\") for value in element.values()] for element in result]\n",
    "\n",
    "\n",
    "    from multiprocessing import Pool\n",
    "\n",
    "    def process_result(i):\n",
    "        # Assuming organize_and_cal_pvalue is a function you have defined\n",
    "        p_value, max_time = organize_and_cal_pvalue(result[i], Low_Percentile_input, High_Percentile_input)\n",
    "        if p_value <= float(Pvalue_input):\n",
    "            return {\"name\": result[i][0], \"logrank_p_value\": \"{:e}\".format(p_value), \"max_time\": max_time}\n",
    "        else:\n",
    "            return None\n",
    "\n",
    "    if __name__ == \"__main__\":\n",
    "        # Set the pool size based on your requirements\n",
    "        pool_size = 4\n",
    "        result_list = []  # Initialize result_list\n",
    "        with Pool(pool_size) as pool:\n",
    "            # Use tqdm to display a progress bar\n",
    "            print('123')\n",
    "            result_list = list(tqdm(pool.imap(process_result, range(len(result))), total=len(result)))\n",
    "\n",
    "        # Remove None results\n",
    "        result_list = [item for item in result_list if item is not None]\n",
    "\n",
    "        # Now you can use the result_list in your Python code\n",
    " \n",
    "\n",
    "\n",
    "    response ={\n",
    "        'result_list':result_list,\n",
    "     }\n",
    "    return JsonResponse(response)"
   ]
  },
  {
   "cell_type": "code",
   "execution_count": 1,
   "metadata": {},
   "outputs": [
    {
     "name": "stdout",
     "output_type": "stream",
     "text": [
      "123\n"
     ]
    }
   ],
   "source": [
    "a = '0'\n",
    "b = int(a)\n",
    "if b == 0 :\n",
    "    print('123')"
   ]
  }
 ],
 "metadata": {
  "kernelspec": {
   "display_name": "Python 3",
   "language": "python",
   "name": "python3"
  },
  "language_info": {
   "codemirror_mode": {
    "name": "ipython",
    "version": 3
   },
   "file_extension": ".py",
   "mimetype": "text/x-python",
   "name": "python",
   "nbconvert_exporter": "python",
   "pygments_lexer": "ipython3",
   "version": "3.10.12"
  }
 },
 "nbformat": 4,
 "nbformat_minor": 2
}
