{
 "cells": [
  {
   "cell_type": "code",
   "execution_count": 78,
   "metadata": {},
   "outputs": [],
   "source": [
    "import pandas as pd \n",
    "import numpy as np \n",
    "\n",
    "def organize_and_cal_pvalue(survival_data: list, Low_Percentile: float, High_Percentile: float):\n",
    "    from lifelines import KaplanMeierFitter\n",
    "    from lifelines.statistics import logrank_test\n",
    "    survival_str = \"\"\n",
    "    case_id_list = []\n",
    "    survival_data = survival_data[1:-1]\n",
    "\n",
    "    FPKM_list = [float(y.split(\"|\")[0]) for x in survival_data for y in x.split(',')]\n",
    "    low_quartile = np.percentile(FPKM_list, float(Low_Percentile))\n",
    "    high_quartile = np.percentile(FPKM_list, 100-float(High_Percentile))\n",
    "    T1 = []\n",
    "    E1 = []\n",
    "    T2 = []\n",
    "    E2 = []\n",
    "    high_case = []\n",
    "    low_case = []\n",
    "    high_FPKM = []\n",
    "    low_FPKM = []\n",
    "    survival_days = []\n",
    "    ele = \"\".join(survival_data).split(\",\")\n",
    "    surviavl_days = [float(x.split(\"|\")[2]) for x in ele if x.split(\"|\")[2] != 'None']\n",
    "\n",
    "    max_survival_days = max(surviavl_days)\n",
    "\n",
    "    for stage in survival_data:\n",
    "        for info in stage.split(','):\n",
    "            FPKM = float(info.split('|')[0])\n",
    "            case_id = info.split('|')[1]\n",
    "            survival_times = float(info.split('|')[2]) if info.split('|')[2] != 'None' else info.split('|')[2] #存活天數\n",
    "            survival_events = False if info.split('|')[3] == 'alive' else True\n",
    "            if FPKM >high_quartile and (survival_times != 0 and survival_times != 'None') and survival_times <= float(max_survival_days):\n",
    "                T1 += [survival_times]\n",
    "                E1 += [survival_events]\n",
    "                case_id_list += [case_id]\n",
    "                high_case += [case_id]\n",
    "                high_FPKM += [FPKM]\n",
    "            elif FPKM < low_quartile and (survival_times != 0 and survival_times != 'None') and survival_times <= float(max_survival_days):\n",
    "                 T2 += [survival_times]\n",
    "                 E2 += [survival_events]\n",
    "                 case_id_list += [case_id]\n",
    "                 low_case += [case_id]\n",
    "                 low_FPKM += [FPKM]\n",
    "    if (T2 != [] and E2 != []) and (T1 != [] and E1 != []):\n",
    "        logrank_result = logrank_test(T1, T2, E1, E2)\n",
    "        logrank_p_value = logrank_result.p_value\n",
    "    else:\n",
    "        logrank_p_value =1 \n",
    "        \n",
    "    return logrank_p_value, max_survival_days"
   ]
  },
  {
   "cell_type": "code",
   "execution_count": null,
   "metadata": {},
   "outputs": [],
   "source": [
    "result_list = []\n",
    "for i in tqdm(range(1000)):\n",
    "    p_value, max_time = organize_and_cal_pvalue(all_cancer_data[i], low_percent, high_percent)\n",
    "    if p_value <= float(input_pvalue):\n",
    "        result_list.append({\"name\":all_cancer_data[i][0], \"logrank_p_value\":p_value, \"max_time\":max_time})\n"
   ]
  },
  {
   "cell_type": "code",
   "execution_count": 76,
   "metadata": {},
   "outputs": [
    {
     "name": "stdout",
     "output_type": "stream",
     "text": [
      "['1.23987|TCGA-OR-A5JE|2105.0|dead,10.425|TCGA-OR-A5JI|2331.0|alive,0.201293|TCGA-OR-A5L3|4628.0|alive,4.09574|TCGA-OR-A5L5|1317.0|alive,5.28287|TCGA-OR-A5JO|1194.0|alive,0.100362|TCGA-OR-A5JL|2056.0|alive,12.089|TCGA-PK-A5HA|1201.0|alive,2.64069|TCGA-OR-A5KT|2895.0|alive,5.10263|TCGA-OR-A5JR|3688.0|alive', '0.349227|TCGA-OR-A5K6|1493.0|alive,0.530155|TCGA-OR-A5JF|2015.0|alive,0.316997|TCGA-OR-A5LM|1858.0|alive,2.26227|TCGA-PK-A5H9|616.0|alive,1.52804|TCGA-OR-A5JD|3038.0|alive,32.1248|TCGA-PK-A5H8|3623.0|alive,0.702667|TCGA-OR-A5JV|2023.0|alive,0.447047|TCGA-OR-A5LH|2385.0|dead,0.59327|TCGA-OR-A5K0|1029.0|alive,1.15501|TCGA-OR-A5K1|3289.0|alive,3.83394|TCGA-OR-A5JP|464.0|alive,0.196972|TCGA-OR-A5K9|344.0|dead,6.62751|TCGA-OR-A5KU|4673.0|alive,16.3132|TCGA-OR-A5LK|2740.0|alive,0.525869|TCGA-OR-A5LN|2342.0|alive,0.124489|TCGA-OR-A5JW|2202.0|alive,0.287339|TCGA-OR-A5JS|383.0|alive,0.398671|TCGA-OR-A5K3|3465.0|alive,0.361578|TCGA-OR-A5J1|1355.0|dead,5.069|TCGA-OR-A5JQ|1103.0|alive,8.09085|TCGA-OR-A5L6|861.0|alive,3.23293|TCGA-OR-A5LR|853.0|alive,0.407656|TCGA-OR-A5LO|2405.0|dead,1.26061|TCGA-OR-A5L8|885.0|alive,0.63452|TCGA-OR-A5LP|1857.0|alive,0.718344|TCGA-OR-A5LA|719.0|alive,1.69098|TCGA-OR-A5JT|907.0|alive,0.810495|TCGA-PA-A5YG|756.0|alive,0.218997|TCGA-OR-A5LS|1096.0|alive,0.178545|TCGA-OR-A5LE|662.0|dead,5.33555|TCGA-OR-A5L9|871.0|alive,0.357286|TCGA-OR-A5K8|749.0|alive,0.245166|TCGA-OR-A5LL|1613.0|dead,12.3291|TCGA-OR-A5J6|2703.0|alive,3.24776|TCGA-OR-A5JZ|822.0|alive,0.164528|TCGA-OR-A5J9|1352.0|alive,11.0402|TCGA-OR-A5KZ|125.0|dead', '7.8435|TCGA-OR-A5KV|3878.0|alive,0.290752|TCGA-OR-A5J3|2091.0|alive,2.03393|TCGA-OR-A5K5|498.0|dead,0.267965|TCGA-OR-A5J7|490.0|dead,1.2131|TCGA-OR-A5K2|994.0|dead,0.41649|TCGA-OR-A5LD|1197.0|dead,2.03368|TCGA-OR-A5L4|967.0|alive,22.3014|TCGA-OR-A5J5|365.0|dead,6.88722|TCGA-OR-A5JX|950.0|alive,1.2265|TCGA-OR-A5J8|579.0|dead,1.23229|TCGA-OR-A5LG|1589.0|alive,0.178329|TCGA-OR-A5K4|1082.0|alive,0.405213|TCGA-OR-A5LT|549.0|alive,24.9701|TCGA-OR-A5KX|1364.0|alive,0.26656|TCGA-OR-A5KW|2076.0|alive,0.769071|TCGA-P6-A5OF|207.0|dead', '0.840284|TCGA-OR-A5KY|391.0|dead,0.491779|TCGA-OR-A5JJ|490.0|dead,1.09607|TCGA-OR-A5JA|922.0|dead,4.77033|TCGA-OR-A5JB|551.0|dead,0.182215|TCGA-OR-A5J2|1677.0|dead,7.2704|TCGA-P6-A5OG|383.0|dead,0.586925|TCGA-OR-A5JM|562.0|dead,0.562083|TCGA-OR-A5LC|159.0|dead,0.153531|TCGA-OR-A5JY|552.0|dead,0.679426|TCGA-OR-A5JG|541.0|dead,0.836062|TCGA-OR-A5JK|1497.0|alive,0.110204|TCGA-OR-A5LB|1204.0|dead,0.497239|TCGA-OR-A5KO|1414.0|alive,2.57488|TCGA-OR-A5LJ|1105.0|dead,0.432735|TCGA-OU-A5PI|1171.0|alive']\n",
      "74\n",
      "[2105.0, 2331.0, 4628.0, 1317.0, 1194.0, 2056.0, 1201.0, 2895.0, 3688.0, 2015.0, 1858.0, 616.0, 3038.0, 3623.0, 2023.0, 2385.0, 1029.0, 3289.0, 464.0, 344.0, 4673.0, 2740.0, 2342.0, 2202.0, 383.0, 3465.0, 1355.0, 1103.0, 861.0, 853.0, 2405.0, 885.0, 1857.0, 719.0, 907.0, 756.0, 1096.0, 662.0, 871.0, 749.0, 1613.0, 2703.0, 822.0, 1352.0, 125.0, 2091.0, 498.0, 490.0, 994.0, 1197.0, 967.0, 365.0, 950.0, 579.0, 1589.0, 1082.0, 549.0, 1364.0, 2076.0, 207.0, 490.0, 922.0, 551.0, 1677.0, 383.0, 562.0, 159.0, 552.0, 541.0, 1497.0, 1204.0, 1414.0, 1105.0, 1171.0]\n",
      "74\n"
     ]
    }
   ],
   "source": [
    "result = [{'gene_name': 'A1BG', 'stage_1': '1.23987|TCGA-OR-A5JE|2105.0|dead,10.425|TCGA-OR-A5JI|2331.0|alive,0.201293|TCGA-OR-A5L3|4628.0|alive'},\n",
    "          {'gene_name': 'A2M', 'stage_1': '0.0|TCGA-OR-A5JE|2105.0|dead,12.34|TCGA-OR-A5JI|2331.0|alive,1.23|TCGA-OR-A5L3|4628.0|alive'}]\n",
    "\n",
    "# 使用列表推导式和 join 将每个字典的值用逗号连接成字符串\n",
    "# result_modified  = [[value for value in element.values()] for element in result]\n",
    "\n",
    "# result_modified = [[value.strip(\"'\") for value in element.values()] for element in result]\n",
    "\n",
    "result_modified = [['A1BG', '1.23987|TCGA-OR-A5JE|2105.0|dead,10.425|TCGA-OR-A5JI|2331.0|alive,0.201293|TCGA-OR-A5L3|4628.0|alive,4.09574|TCGA-OR-A5L5|1317.0|alive,5.28287|TCGA-OR-A5JO|1194.0|alive,0.100362|TCGA-OR-A5JL|2056.0|alive,12.089|TCGA-PK-A5HA|1201.0|alive,2.64069|TCGA-OR-A5KT|2895.0|alive,5.10263|TCGA-OR-A5JR|3688.0|alive', '0.349227|TCGA-OR-A5K6|1493.0|alive,0.530155|TCGA-OR-A5JF|2015.0|alive,0.316997|TCGA-OR-A5LM|1858.0|alive,2.26227|TCGA-PK-A5H9|616.0|alive,1.52804|TCGA-OR-A5JD|3038.0|alive,32.1248|TCGA-PK-A5H8|3623.0|alive,0.702667|TCGA-OR-A5JV|2023.0|alive,0.447047|TCGA-OR-A5LH|2385.0|dead,0.59327|TCGA-OR-A5K0|1029.0|alive,1.15501|TCGA-OR-A5K1|3289.0|alive,3.83394|TCGA-OR-A5JP|464.0|alive,0.196972|TCGA-OR-A5K9|344.0|dead,6.62751|TCGA-OR-A5KU|4673.0|alive,16.3132|TCGA-OR-A5LK|2740.0|alive,0.525869|TCGA-OR-A5LN|2342.0|alive,0.124489|TCGA-OR-A5JW|2202.0|alive,0.287339|TCGA-OR-A5JS|383.0|alive,0.398671|TCGA-OR-A5K3|3465.0|alive,0.361578|TCGA-OR-A5J1|1355.0|dead,5.069|TCGA-OR-A5JQ|1103.0|alive,8.09085|TCGA-OR-A5L6|861.0|alive,3.23293|TCGA-OR-A5LR|853.0|alive,0.407656|TCGA-OR-A5LO|2405.0|dead,1.26061|TCGA-OR-A5L8|885.0|alive,0.63452|TCGA-OR-A5LP|1857.0|alive,0.718344|TCGA-OR-A5LA|719.0|alive,1.69098|TCGA-OR-A5JT|907.0|alive,0.810495|TCGA-PA-A5YG|756.0|alive,0.218997|TCGA-OR-A5LS|1096.0|alive,0.178545|TCGA-OR-A5LE|662.0|dead,5.33555|TCGA-OR-A5L9|871.0|alive,0.357286|TCGA-OR-A5K8|749.0|alive,0.245166|TCGA-OR-A5LL|1613.0|dead,12.3291|TCGA-OR-A5J6|2703.0|alive,3.24776|TCGA-OR-A5JZ|822.0|alive,0.164528|TCGA-OR-A5J9|1352.0|alive,11.0402|TCGA-OR-A5KZ|125.0|dead', '7.8435|TCGA-OR-A5KV|3878.0|alive,0.290752|TCGA-OR-A5J3|2091.0|alive,2.03393|TCGA-OR-A5K5|498.0|dead,0.267965|TCGA-OR-A5J7|490.0|dead,1.2131|TCGA-OR-A5K2|994.0|dead,0.41649|TCGA-OR-A5LD|1197.0|dead,2.03368|TCGA-OR-A5L4|967.0|alive,22.3014|TCGA-OR-A5J5|365.0|dead,6.88722|TCGA-OR-A5JX|950.0|alive,1.2265|TCGA-OR-A5J8|579.0|dead,1.23229|TCGA-OR-A5LG|1589.0|alive,0.178329|TCGA-OR-A5K4|1082.0|alive,0.405213|TCGA-OR-A5LT|549.0|alive,24.9701|TCGA-OR-A5KX|1364.0|alive,0.26656|TCGA-OR-A5KW|2076.0|alive,0.769071|TCGA-P6-A5OF|207.0|dead', '0.840284|TCGA-OR-A5KY|391.0|dead,0.491779|TCGA-OR-A5JJ|490.0|dead,1.09607|TCGA-OR-A5JA|922.0|dead,4.77033|TCGA-OR-A5JB|551.0|dead,0.182215|TCGA-OR-A5J2|1677.0|dead,7.2704|TCGA-P6-A5OG|383.0|dead,0.586925|TCGA-OR-A5JM|562.0|dead,0.562083|TCGA-OR-A5LC|159.0|dead,0.153531|TCGA-OR-A5JY|552.0|dead,0.679426|TCGA-OR-A5JG|541.0|dead,0.836062|TCGA-OR-A5JK|1497.0|alive,0.110204|TCGA-OR-A5LB|1204.0|dead,0.497239|TCGA-OR-A5KO|1414.0|alive,2.57488|TCGA-OR-A5LJ|1105.0|dead,0.432735|TCGA-OU-A5PI|1171.0|alive', '1.23987|TCGA-OR-A5JE,10.425|TCGA-OR-A5JI,0.201293|TCGA-OR-A5L3,4.09574|TCGA-OR-A5L5,5.28287|TCGA-OR-A5JO,0.100362|TCGA-OR-A5JL,12.089|TCGA-PK-A5HA,2.64069|TCGA-OR-A5KT,5.10263|TCGA-OR-A5JR,0.349227|TCGA-OR-A5K6,0.530155|TCGA-OR-A5JF,0.316997|TCGA-OR-A5LM,2.26227|TCGA-PK-A5H9,1.52804|TCGA-OR-A5JD,32.1248|TCGA-PK-A5H8,0.702667|TCGA-OR-A5JV,0.447047|TCGA-OR-A5LH,0.59327|TCGA-OR-A5K0,1.15501|TCGA-OR-A5K1,3.83394|TCGA-OR-A5JP,0.196972|TCGA-OR-A5K9,6.62751|TCGA-OR-A5KU,16.3132|TCGA-OR-A5LK,0.525869|TCGA-OR-A5LN,0.124489|TCGA-OR-A5JW,0.287339|TCGA-OR-A5JS,0.398671|TCGA-OR-A5K3,0.361578|TCGA-OR-A5J1,5.069|TCGA-OR-A5JQ,8.09085|TCGA-OR-A5L6,3.23293|TCGA-OR-A5LR,0.407656|TCGA-OR-A5LO,1.26061|TCGA-OR-A5L8,0.63452|TCGA-OR-A5LP,0.718344|TCGA-OR-A5LA,1.69098|TCGA-OR-A5JT,0.810495|TCGA-PA-A5YG,0.218997|TCGA-OR-A5LS,0.178545|TCGA-OR-A5LE,5.33555|TCGA-OR-A5L9,0.357286|TCGA-OR-A5K8,0.245166|TCGA-OR-A5LL,12.3291|TCGA-OR-A5J6,3.24776|TCGA-OR-A5JZ,0.164528|TCGA-OR-A5J9,11.0402|TCGA-OR-A5KZ,7.8435|TCGA-OR-A5KV,0.290752|TCGA-OR-A5J3,2.03393|TCGA-OR-A5K5,0.267965|TCGA-OR-A5J7,1.2131|TCGA-OR-A5K2,0.41649|TCGA-OR-A5LD,2.03368|TCGA-OR-A5L4,22.3014|TCGA-OR-A5J5,6.88722|TCGA-OR-A5JX,1.2265|TCGA-OR-A5J8,1.23229|TCGA-OR-A5LG,0.178329|TCGA-OR-A5K4,0.405213|TCGA-OR-A5LT,24.9701|TCGA-OR-A5KX,0.26656|TCGA-OR-A5KW,0.769071|TCGA-P6-A5OF,0.840284|TCGA-OR-A5KY,0.491779|TCGA-OR-A5JJ,1.09607|TCGA-OR-A5JA,4.77033|TCGA-OR-A5JB,0.182215|TCGA-OR-A5J2,7.2704|TCGA-P6-A5OG,0.586925|TCGA-OR-A5JM,0.562083|TCGA-OR-A5LC,0.153531|TCGA-OR-A5JY,0.679426|TCGA-OR-A5JG,0.836062|TCGA-OR-A5JK,0.110204|TCGA-OR-A5LB,0.497239|TCGA-OR-A5KO,2.57488|TCGA-OR-A5LJ,0.432735|TCGA-OU-A5PI'],\n",
    "                   ['A1BG-AS1', '0.176793|TCGA-OR-A5JE|2105.0|dead,2.06405|TCGA-OR-A5JI|2331.0|alive,0.00677116|TCGA-OR-A5L3|4628.0|alive,0.672931|TCGA-OR-A5L5|1317.0|alive,1.40111|TCGA-OR-A5JO|1194.0|alive,0.0592914|TCGA-OR-A5JL|2056.0|alive,1.60631|TCGA-PK-A5HA|1201.0|alive,0.919671|TCGA-OR-A5KT|2895.0|alive,1.35958|TCGA-OR-A5JR|3688.0|alive', '0.15677|TCGA-OR-A5K6|1493.0|alive,0.035403|TCGA-OR-A5JF|2015.0|alive,0.117225|TCGA-OR-A5LM|1858.0|alive,0.92433|TCGA-PK-A5H9|616.0|alive,0.269468|TCGA-OR-A5JD|3038.0|alive,6.67404|TCGA-PK-A5H8|3623.0|alive,0.129685|TCGA-OR-A5JV|2023.0|alive,0.0922457|TCGA-OR-A5LH|2385.0|dead,0.123445|TCGA-OR-A5K0|1029.0|alive,0.168364|TCGA-OR-A5K1|3289.0|alive,1.54136|TCGA-OR-A5JP|464.0|alive,0.0171883|TCGA-OR-A5K9|344.0|dead,1.19792|TCGA-OR-A5KU|4673.0|alive,1.41524|TCGA-OR-A5LK|2740.0|alive,0.0824676|TCGA-OR-A5LN|2342.0|alive,0.0532265|TCGA-OR-A5JW|2202.0|alive,0.0602536|TCGA-OR-A5JS|383.0|alive,6.09477e-47|TCGA-OR-A5K3|3465.0|alive,0.165964|TCGA-OR-A5J1|1355.0|dead,0.539405|TCGA-OR-A5JQ|1103.0|alive,0.986815|TCGA-OR-A5L6|861.0|alive,0.382193|TCGA-OR-A5LR|853.0|alive,0.102465|TCGA-OR-A5LO|2405.0|dead,0.409145|TCGA-OR-A5L8|885.0|alive,0.243267|TCGA-OR-A5LP|1857.0|alive,0.363651|TCGA-OR-A5LA|719.0|alive,0.359507|TCGA-OR-A5JT|907.0|alive,0.193276|TCGA-PA-A5YG|756.0|alive,0.0340527|TCGA-OR-A5LS|1096.0|alive,0.0218373|TCGA-OR-A5LE|662.0|dead,0.181322|TCGA-OR-A5L9|871.0|alive,0.0389024|TCGA-OR-A5K8|749.0|alive,1.13571e-46|TCGA-OR-A5LL|1613.0|dead,2.37996|TCGA-OR-A5J6|2703.0|alive,0.495335|TCGA-OR-A5JZ|822.0|alive,0.0433578|TCGA-OR-A5J9|1352.0|alive,2.48332|TCGA-OR-A5KZ|125.0|dead', '2.0328|TCGA-OR-A5KV|3878.0|alive,0.0818494|TCGA-OR-A5J3|2091.0|alive,0.774388|TCGA-OR-A5K5|498.0|dead,0.174424|TCGA-OR-A5J7|490.0|dead,0.0405878|TCGA-OR-A5K2|994.0|dead,0.224899|TCGA-OR-A5LD|1197.0|dead,0.0305408|TCGA-OR-A5L4|967.0|alive,3.40823|TCGA-OR-A5J5|365.0|dead,1.3717|TCGA-OR-A5JX|950.0|alive,0.728778|TCGA-OR-A5J8|579.0|dead,0.343835|TCGA-OR-A5LG|1589.0|alive,3.48633e-40|TCGA-OR-A5K4|1082.0|alive,0.0269884|TCGA-OR-A5LT|549.0|alive,8.03582|TCGA-OR-A5KX|1364.0|alive,0.014819|TCGA-OR-A5KW|2076.0|alive,0.158308|TCGA-P6-A5OF|207.0|dead', '0.198318|TCGA-OR-A5KY|391.0|dead,0.00111564|TCGA-OR-A5JJ|490.0|dead,0.326881|TCGA-OR-A5JA|922.0|dead,4.02046|TCGA-OR-A5JB|551.0|dead,0.07134|TCGA-OR-A5J2|1677.0|dead,3.88277|TCGA-P6-A5OG|383.0|dead,0.079969|TCGA-OR-A5JM|562.0|dead,0.0603703|TCGA-OR-A5LC|159.0|dead,0.0894328|TCGA-OR-A5JY|552.0|dead,0.167893|TCGA-OR-A5JG|541.0|dead,0.175737|TCGA-OR-A5JK|1497.0|alive,0.017497|TCGA-OR-A5LB|1204.0|dead,0.0806881|TCGA-OR-A5KO|1414.0|alive,0.65129|TCGA-OR-A5LJ|1105.0|dead,4.10305e-61|TCGA-OU-A5PI|1171.0|alive', '0.176793|TCGA-OR-A5JE,2.06405|TCGA-OR-A5JI,0.00677116|TCGA-OR-A5L3,0.672931|TCGA-OR-A5L5,1.40111|TCGA-OR-A5JO,0.0592914|TCGA-OR-A5JL,1.60631|TCGA-PK-A5HA,0.919671|TCGA-OR-A5KT,1.35958|TCGA-OR-A5JR,0.15677|TCGA-OR-A5K6,0.035403|TCGA-OR-A5JF,0.117225|TCGA-OR-A5LM,0.92433|TCGA-PK-A5H9,0.269468|TCGA-OR-A5JD,6.67404|TCGA-PK-A5H8,0.129685|TCGA-OR-A5JV,0.0922457|TCGA-OR-A5LH,0.123445|TCGA-OR-A5K0,0.168364|TCGA-OR-A5K1,1.54136|TCGA-OR-A5JP,0.0171883|TCGA-OR-A5K9,1.19792|TCGA-OR-A5KU,1.41524|TCGA-OR-A5LK,0.0824676|TCGA-OR-A5LN,0.0532265|TCGA-OR-A5JW,0.0602536|TCGA-OR-A5JS,6.09477e-47|TCGA-OR-A5K3,0.165964|TCGA-OR-A5J1,0.539405|TCGA-OR-A5JQ,0.986815|TCGA-OR-A5L6,0.382193|TCGA-OR-A5LR,0.102465|TCGA-OR-A5LO,0.409145|TCGA-OR-A5L8,0.243267|TCGA-OR-A5LP,0.363651|TCGA-OR-A5LA,0.359507|TCGA-OR-A5JT,0.193276|TCGA-PA-A5YG,0.0340527|TCGA-OR-A5LS,0.0218373|TCGA-OR-A5LE,0.181322|TCGA-OR-A5L9,0.0389024|TCGA-OR-A5K8,1.13571e-46|TCGA-OR-A5LL,2.37996|TCGA-OR-A5J6,0.495335|TCGA-OR-A5JZ,0.0433578|TCGA-OR-A5J9,2.48332|TCGA-OR-A5KZ,2.0328|TCGA-OR-A5KV,0.0818494|TCGA-OR-A5J3,0.774388|TCGA-OR-A5K5,0.174424|TCGA-OR-A5J7,0.0405878|TCGA-OR-A5K2,0.224899|TCGA-OR-A5LD,0.0305408|TCGA-OR-A5L4,3.40823|TCGA-OR-A5J5,1.3717|TCGA-OR-A5JX,0.728778|TCGA-OR-A5J8,0.343835|TCGA-OR-A5LG,3.48633e-40|TCGA-OR-A5K4,0.0269884|TCGA-OR-A5LT,8.03582|TCGA-OR-A5KX,0.014819|TCGA-OR-A5KW,0.158308|TCGA-P6-A5OF,0.198318|TCGA-OR-A5KY,0.00111564|TCGA-OR-A5JJ,0.326881|TCGA-OR-A5JA,4.02046|TCGA-OR-A5JB,0.07134|TCGA-OR-A5J2,3.88277|TCGA-P6-A5OG,0.079969|TCGA-OR-A5JM,0.0603703|TCGA-OR-A5LC,0.0894328|TCGA-OR-A5JY,0.167893|TCGA-OR-A5JG,0.175737|TCGA-OR-A5JK,0.017497|TCGA-OR-A5LB,0.0806881|TCGA-OR-A5KO,0.65129|TCGA-OR-A5LJ,4.10305e-61|TCGA-OU-A5PI']]\n",
    "# 打印结果\n",
    "# for modified_str in result_modified:\n",
    "#     print(modified_str)\n",
    "# print('-----------------------------')\n",
    "# print(result_modified)\n",
    "# print(result_modified[0])\n",
    "# print(result_modified[0][0])\n",
    "\n",
    "survival_data = result_modified[0][1:-1]\n",
    "print(survival_data)\n",
    "ele = \"\".join(survival_data).split(\",\")\n",
    "print(len(ele))\n",
    "survival_days = [float(x.split(\"|\")[2]) for x in ele if x.split(\"|\")[2] != 'None']\n",
    "print(survival_days)\n",
    "print(len(survival_days))\n",
    "# max_survival_days = max(survival_days)\n",
    "# print(max_survival_days)\n"
   ]
  },
  {
   "cell_type": "code",
   "execution_count": 81,
   "metadata": {},
   "outputs": [
    {
     "name": "stdout",
     "output_type": "stream",
     "text": [
      "0.28920098133880334\n"
     ]
    }
   ],
   "source": [
    "p_value, max_time = organize_and_cal_pvalue(result_modified[0], 50, 50)\n",
    "print(p_value)"
   ]
  }
 ],
 "metadata": {
  "kernelspec": {
   "display_name": "Python 3",
   "language": "python",
   "name": "python3"
  },
  "language_info": {
   "codemirror_mode": {
    "name": "ipython",
    "version": 3
   },
   "file_extension": ".py",
   "mimetype": "text/x-python",
   "name": "python",
   "nbconvert_exporter": "python",
   "pygments_lexer": "ipython3",
   "version": "3.10.12"
  },
  "orig_nbformat": 4
 },
 "nbformat": 4,
 "nbformat_minor": 2
}
